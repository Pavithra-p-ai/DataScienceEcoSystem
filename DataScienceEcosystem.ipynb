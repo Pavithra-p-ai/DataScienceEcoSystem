{
 "cells": [
  {
   "cell_type": "markdown",
   "id": "a5638af9-0fdc-41cf-87b1-3b3a64282169",
   "metadata": {},
   "source": [
    "# Data Science Tools and Ecosystem"
   ]
  },
  {
   "cell_type": "markdown",
   "id": "b0828cd3-a1ee-43a5-9b0f-44ebaaa52e06",
   "metadata": {},
   "source": [
    "## Introduction ##"
   ]
  },
  {
   "cell_type": "markdown",
   "id": "c64cd458-d701-4cab-9d00-e029fdfa5be6",
   "metadata": {},
   "source": [
    "In this notebook, Data Science Tools and Ecosystem are summarized."
   ]
  },
  {
   "cell_type": "markdown",
   "id": "d8639d86-c2ef-4ad9-9a58-de71856a0e9c",
   "metadata": {},
   "source": [
    "__OBJECTIVE__\n",
    "\n",
    "- Languages in Data Science\n",
    "- Libraries in Data Science\n",
    "- Data Science Tools\n",
    "- Arithmetic Expression in Python"
   ]
  },
  {
   "cell_type": "markdown",
   "id": "4a53e452-1129-44fd-83f4-7a6d2f4596a5",
   "metadata": {},
   "source": [
    "Some of the popular languages that Data Scientists use are:\n",
    "1. Python\n",
    "2. R\n",
    "3. Julia\n",
    "4. Scala"
   ]
  },
  {
   "cell_type": "markdown",
   "id": "b5bba003-f14a-46b7-8d1c-b4454e59d7bf",
   "metadata": {},
   "source": [
    "Some of the commonly used libraries used by Data Scientists include:\n",
    "1. Scikit Learn\n",
    "2. Matplotlib\n",
    "3. Numpy\n",
    "4. Pandas"
   ]
  },
  {
   "cell_type": "markdown",
   "id": "c0e06106-91ed-4704-b7b8-da1fef2fe278",
   "metadata": {},
   "source": [
    "|Data Science Tools| \n",
    "| ------ |\n",
    "|Anaconda|\n",
    "|Jupyter Notebook|\n",
    "|Pycharm|\n"
   ]
  },
  {
   "cell_type": "markdown",
   "id": "72afb3d0-0982-46e8-a218-2da111f21bc6",
   "metadata": {},
   "source": [
    "### Below are a few examples of evaluating arithmetic expressions in Python ###\n"
   ]
  },
  {
   "cell_type": "code",
   "execution_count": null,
   "id": "4c81ef20-4cc0-4069-a50e-881aba1712fe",
   "metadata": {},
   "outputs": [],
   "source": [
    "#This a simple arithmetic expression to mutiply then add integers"
   ]
  },
  {
   "cell_type": "code",
   "execution_count": 4,
   "id": "9faa638e-734b-4304-9e4d-9f99ed43dc09",
   "metadata": {},
   "outputs": [
    {
     "data": {
      "text/plain": [
       "17"
      ]
     },
     "execution_count": 4,
     "metadata": {},
     "output_type": "execute_result"
    }
   ],
   "source": [
    "(3*4)+5"
   ]
  },
  {
   "cell_type": "code",
   "execution_count": null,
   "id": "a6df1c77-02df-4dd4-966c-76bf3608cae2",
   "metadata": {},
   "outputs": [],
   "source": [
    "#This will convert 200 minutes to hours by diving by 60"
   ]
  },
  {
   "cell_type": "code",
   "execution_count": 14,
   "id": "fc6f4cd1-c272-42fa-b0a9-f94692fa687d",
   "metadata": {},
   "outputs": [
    {
     "data": {
      "text/plain": [
       "3.3333333333333335"
      ]
     },
     "execution_count": 14,
     "metadata": {},
     "output_type": "execute_result"
    }
   ],
   "source": [
    "200 / 60"
   ]
  },
  {
   "cell_type": "markdown",
   "id": "633fb7a4-0923-4757-b16f-45f06bd5b3cb",
   "metadata": {},
   "source": [
    "## Author ##\n",
    "Pavithra P"
   ]
  }
 ],
 "metadata": {
  "kernelspec": {
   "display_name": "Python [conda env:base] *",
   "language": "python",
   "name": "conda-base-py"
  },
  "language_info": {
   "codemirror_mode": {
    "name": "ipython",
    "version": 3
   },
   "file_extension": ".py",
   "mimetype": "text/x-python",
   "name": "python",
   "nbconvert_exporter": "python",
   "pygments_lexer": "ipython3",
   "version": "3.12.7"
  }
 },
 "nbformat": 4,
 "nbformat_minor": 5
}
